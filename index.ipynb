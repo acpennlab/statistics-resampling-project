{
 "cells": [
  {
   "cell_type": "markdown",
   "id": "972727ef-5e46-4c67-80bd-8a82dc5cf460",
   "metadata": {},
   "source": [
    "Index\n",
    "============\n",
    "\n",
    "Before running the code in the notebooks within this repository, run the following code cell to install any required packages available from [conda-forge](https://conda-forge.org/packages/). The packages installed are listed in the **pkg-list.txt** file. \n",
    "\n",
    "(Conda packages are pre-compiled and so installation will be faster than installing from source with some other package managers.)"
   ]
  },
  {
   "cell_type": "code",
   "execution_count": null,
   "id": "3b420213-ef75-4d46-a1e6-3f00f4a7cf52",
   "metadata": {},
   "outputs": [],
   "source": [
    "conda install -qc conda-forge --file=pkg-list.txt"
   ]
  }
 ],
 "metadata": {
  "kernelspec": {
   "display_name": "Python 3 (ipykernel)",
   "language": "python",
   "name": "python3"
  },
  "language_info": {
   "codemirror_mode": {
    "name": "ipython",
    "version": 3
   },
   "file_extension": ".py",
   "mimetype": "text/x-python",
   "name": "python",
   "nbconvert_exporter": "python",
   "pygments_lexer": "ipython3",
   "version": "3.11.7"
  }
 },
 "nbformat": 4,
 "nbformat_minor": 5
}
