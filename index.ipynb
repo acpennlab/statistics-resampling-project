{
 "cells": [
  {
   "cell_type": "markdown",
   "id": "972727ef-5e46-4c67-80bd-8a82dc5cf460",
   "metadata": {},
   "source": [
    "Index\n",
    "============\n",
    "\n",
    "This example project contains 4 notebooks:\n",
    "\n",
    "* notebooks / my-octave-notebook.ipynb\n",
    "* notebooks / my-r-notebook.ipynb\n",
    "* notebooks / my-python-notebook.ipynb\n",
    "* notebooks / my-julia-notebook.ipynb"
   ]
  },
  {
   "cell_type": "code",
   "execution_count": null,
   "id": "79d01a5d-ead5-4679-b058-d4d54cd837ba",
   "metadata": {},
   "outputs": [],
   "source": []
  }
 ],
 "metadata": {
  "kernelspec": {
   "display_name": "Python 3 (ipykernel)",
   "language": "python",
   "name": "python3"
  },
  "language_info": {
   "codemirror_mode": {
    "name": "ipython",
    "version": 3
   },
   "file_extension": ".py",
   "mimetype": "text/x-python",
   "name": "python",
   "nbconvert_exporter": "python",
   "pygments_lexer": "ipython3",
   "version": "3.11.7"
  }
 },
 "nbformat": 4,
 "nbformat_minor": 5
}
