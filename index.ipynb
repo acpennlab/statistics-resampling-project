{
 "cells": [
  {
   "cell_type": "markdown",
   "id": "972727ef-5e46-4c67-80bd-8a82dc5cf460",
   "metadata": {},
   "source": [
    "Index\n",
    "============\n",
    "\n",
    "This example project contains 4 notebooks:\n",
    "\n",
    "* notebooks / my-octave-notebook.ipynb\n",
    "* notebooks / my-r-notebook.ipynb\n",
    "* notebooks / my-python-notebook.ipynb\n",
    "* notebooks / my-julia-notebook.ipynb"
   ]
  },
  {
   "cell_type": "markdown",
   "id": "5820ac24-09fd-48b6-9e6f-2172a8b2fa80",
   "metadata": {},
   "source": [
    "This is a test"
   ]
  }
 ],
 "metadata": {
  "kernelspec": {
   "display_name": "Python 3 (ipykernel)",
   "language": "python",
   "name": "python3"
  },
  "language_info": {
   "codemirror_mode": {
    "name": "ipython",
    "version": 3
   },
   "file_extension": ".py",
   "mimetype": "text/x-python",
   "name": "python",
   "nbconvert_exporter": "python",
   "pygments_lexer": "ipython3",
   "version": "3.10.12"
  }
 },
 "nbformat": 4,
 "nbformat_minor": 5
}
