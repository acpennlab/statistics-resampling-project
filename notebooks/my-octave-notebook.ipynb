{
 "cells": [
  {
   "cell_type": "markdown",
   "metadata": {},
   "source": [
    "My Octave Notebook \n",
    "============\n",
    "\n",
    "Interact with Octave and the statistics-resampling package online in Jupyter Notebook with Binder. All commands are interpreted by Octave.  Since this is a [MetaKernel](https://github.com/Calysto/metakernel), a standard set of magics are available.  Help on commands is available using the `%help` magic or using `?` with a command. For the best experience, run this notebook in [Jupyter Lab](https://mybinder.org/v2/gh/acpennlab/statistics-resampling-online/master?labpath=statistics-resampling.ipynb). \n",
    "\n",
    "The code cells and their output below illustrate some examples of loading data and then performing analysis using functions from the **statistics-resampling** package. Follow the links in the **Quick start** section of the [README page](https://gnu-octave.github.io/statistics-resampling/readme.html), or on the [Function reference page](https://gnu-octave.github.io/statistics-resampling/function_reference), to find further examples. The example data files provided, **data1.tsv** and **data2.csv**, can be edited directly in this instance of JupyterLab. \n",
    "\n",
    "The statistics-resampling package already comes installed and loaded at **statistics-resampling-online**. Visit [GNU Octave Packages](https://gnu-octave.github.io/packages/) to see what other packages are available and how to install them. To load a newly installed package called `<package-name>`, use the command `pkg load <package-name>`. To preview demonstration number `X` of a function called `<function-name>`, use the command `demo ('<function-name>', X)`. To get more information about a particular function called `<function-name>`, use the command `help <function-name>`. Note that the **parallel** package cannot be installed at **statistics-resampling-online**, and that additions to the binder environment may be required to build or run some other Octave packages."
   ]
  },
  {
   "cell_type": "markdown",
   "metadata": {},
   "source": [
    "Some Octave packages come already installed and in this statistics-resampling-online Binder environment. If you were running Octave on your own machine, you would need to install and load the statistics-resampling package first by running the code in the following two cells:"
   ]
  },
  {
   "cell_type": "code",
   "execution_count": null,
   "metadata": {},
   "outputs": [],
   "source": [
    "# Run this command once to install the package\n",
    "pkg install -forge statistics-resampling"
   ]
  },
  {
   "cell_type": "code",
   "execution_count": null,
   "metadata": {},
   "outputs": [],
   "source": [
    "# Run this command in each new Octave session\n",
    "pkg load statistics-resampling"
   ]
  },
  {
   "cell_type": "markdown",
   "metadata": {},
   "source": [
    "Run the code in the next code cell if you wish to know:\n",
    "1) The version of GNU Octave that you are running\n",
    "2) What packages (and their version) are already installed (and loaded*) here\n",
    "3) More information about the statistics-resampling package"
   ]
  },
  {
   "cell_type": "code",
   "execution_count": 1,
   "metadata": {},
   "outputs": [
    {
     "name": "stdout",
     "output_type": "stream",
     "text": [
      "----------------------------------------------------------------------\n",
      "GNU Octave Version: 8.3.0 (hg id: 6fc591af58ba)\n",
      "GNU Octave License: GNU General Public License\n",
      "Operating System: Linux 5.15.0-94-generic #104-Ubuntu SMP Tue Jan 9 15:25:40 UTC 2024 x86_64\n",
      "----------------------------------------------------------------------\n",
      "Package Name           | Version | Installation directory\n",
      "-----------------------+---------+-----------------------\n",
      "                coder  |   1.9.1 | .../octave/api-v58/packages/coder-1.9.1\n",
      "              control  |   4.0.0 | .../octave/api-v58/packages/control-4.0.0\n",
      "       data-smoothing  |   1.3.0 | .../api-v58/packages/data-smoothing-1.3.0\n",
      "            dataframe  |   1.2.0 | .../octave/api-v58/packages/dataframe-1.2.0\n",
      "               fileio  |   1.2.2 | .../octave/api-v58/packages/fileio-1.2.2\n",
      "                   ga  |  0.10.3 | .../share/octave/api-v58/packages/ga-0.10.3\n",
      "                   io *|   2.6.4 | .../share/octave/api-v58/packages/io-2.6.4\n",
      "        miscellaneous  |   1.3.0 | .../api-v58/packages/miscellaneous-1.3.0\n",
      "                optim  |   1.6.2 | .../octave/api-v58/packages/optim-1.6.2\n",
      "          optiminterp  |   0.3.7 | .../api-v58/packages/optiminterp-0.3.7\n",
      "               signal  |   1.4.5 | .../octave/api-v58/packages/signal-1.4.5\n",
      "              splines  |   1.3.5 | .../octave/api-v58/packages/splines-1.3.5\n",
      "           statistics *|   1.6.5 | .../octave/api-v58/packages/statistics-1.6.5\n",
      "statistics-resampling *|   5.5.7 | .../packages/statistics-resampling-5.5.7\n",
      "              strings  |   1.3.1 | .../octave/api-v58/packages/strings-1.3.1\n",
      "               struct  |  1.0.18 | .../octave/api-v58/packages/struct-1.0.18\n",
      "             symbolic  |   3.1.1 | .../octave/api-v58/packages/symbolic-3.1.1\n",
      "           tablicious *|   0.4.2 | .../octave/api-v58/packages/tablicious-0.4.2\n",
      "---\n",
      "Package name:\n",
      "\tstatistics-resampling\n",
      "Version:\n",
      "\t5.5.7\n",
      "Short description:\n",
      "\tThe statistics-resampling package is an Octave  package and Matlab toolbox that can be used to perform a wide  variety of statistics tasks using non-parametric resampling  methods. In particular, the functions included can be used to  estimate bias, uncertainty (standard errors and confidence  intervals), prediction error, and calculate p-values for null  hypothesis significance tests. Variations of the resampling  methods are included that improve the accuracy of the  statistics for small samples and samples with complex  dependence structures.\n",
      "Depends on:\n",
      "\toctave >= 4.4.0\n",
      "Depended on by:\n",
      "\t\n",
      "Status:\n",
      "\tLoaded\n",
      "---\n",
      "Provides:\n",
      "Main functions\n",
      "\tbootknife\n",
      "\tbootclust\n",
      "\tbootwild\n",
      "\tbootbayes\n",
      "\trandtest2\n",
      "\tbootlm\n",
      "\tboot1way\n",
      "\tbootmode\n",
      "Cloned Matlab functions\n",
      "\tbootstrp\n",
      "\tbootci\n",
      "Utility Functions\n",
      "\tboot\n",
      "\tbootcdf\n",
      "\tcredint\n",
      "\tdeffcalc\n",
      "\tsampszcalc\n",
      "Parameter functions\n",
      "\tsmoothmedian\n",
      "\tsmoothmad\n",
      "\tcor\n"
     ]
    }
   ],
   "source": [
    "ver('Octave');\n",
    "pkg list;\n",
    "pkg describe -verbose statistics-resampling"
   ]
  },
  {
   "cell_type": "markdown",
   "metadata": {},
   "source": [
    "**Example 1** (below): Bootstrap confidence intervals for the correlation coefficient using `bootci` on (bivariate) data (in wide format) loaded from **data1.tsv**. Application of `randtest2` for comparing the mean of paired samples is also illustrated."
   ]
  },
  {
   "cell_type": "code",
   "execution_count": 2,
   "metadata": {},
   "outputs": [
    {
     "name": "stdout",
     "output_type": "stream",
     "text": [
      "ci =\n",
      "\n",
      "   0.5189\n",
      "   0.8739\n",
      "\n",
      "pval = 1.0000e-04\n"
     ]
    }
   ],
   "source": [
    "# Load data from tab-separated-value (TSV) file (i.e. tab-delimited text file) with header\n",
    "# Formatting: each %f corresponds to a number (double precision)\n",
    "[before, after] = textread ('../data/data1.tsv', '%f %f', 'Delimiter', '', 'HeaderLines', 1);\n",
    "\n",
    "# 95% BCa bootstrap confidence intervals for the correlation coefficient\n",
    "ci = bootci (1999, @cor, before, after)\n",
    "\n",
    "# Randomization test for comparing means of paired samples\n",
    "pval = randtest2 (before, after, true, 10000, @(A, B) mean (A) - mean (B))"
   ]
  },
  {
   "cell_type": "markdown",
   "metadata": {},
   "source": [
    "**Example 2** (below): Bootstrap two-way ANOVA (Type I) using `bootlm` with data (in long format) loaded from **data2.csv**."
   ]
  },
  {
   "cell_type": "code",
   "execution_count": 3,
   "metadata": {
    "tags": []
   },
   "outputs": [
    {
     "name": "stdout",
     "output_type": "stream",
     "text": [
      "ANOVA SUMMARY with effect of gender averaged over levels of degree\n",
      "F(1,18) = 87.20, p = 0.0001 for the model: salary ~ 1 + degree\n",
      "F(1,18) = 10.97, p = 0.00498 for the model: salary ~ 1 + degree + gender\n",
      "F(1,18) = 0.42, p = 0.572 for the model: salary ~ 1 + degree + gender + degree:gender\n",
      "\n",
      "MODEL FORMULA (based on Wilkinson's notation):\n",
      "\n",
      "salary ~ 1 + degree + gender + degree:gender\n",
      "\n",
      "MODEL COEFFICIENTS\n",
      "\n",
      "name                                   coeff       CI_lower    CI_upper    p-val\n",
      "--------------------------------------------------------------------------------\n",
      "(Intercept)                            +20.00      +19.14      +20.92           \n",
      "degree_1                               +7.000      +5.229      +8.822           \n",
      "gender_1                               -3.000      -4.714      -1.094           \n",
      "degree:gender_1                        +1.000      -1.623      +3.587           \n",
      "\n",
      "\n",
      "MODEL FORMULA (based on Wilkinson's notation):\n",
      "\n",
      "salary ~ 1 + degree + gender + degree:gender\n",
      "\n",
      "MODEL ESTIMATED MARGINAL MEANS\n",
      "\n",
      "name                                   mean        CI_lower    CI_upper        N\n",
      "--------------------------------------------------------------------------------\n",
      "0, m                                   +20.00      +18.95      +21.03          7\n",
      "1, m                                   +27.00      +25.13      +29.00          3\n",
      "0, f                                   +17.00      +15.10      +19.16          4\n",
      "1, f                                   +25.00      +24.02      +26.06          8\n",
      "\n",
      "\n",
      "MODEL FORMULA (based on Wilkinson's notation):\n",
      "\n",
      "salary ~ 1 + degree + gender + degree:gender\n",
      "\n",
      "MODEL POSTHOC COMPARISONS\n",
      "\n",
      "name                                   mean        CI_lower    CI_upper    p-adj\n",
      "--------------------------------------------------------------------------------\n",
      "m - f                                  +2.500      +0.5509     +4.449       .013\n",
      "\n"
     ]
    },
    {
     "data": {
      "image/png": "[encoded data removed]",
      "text/plain": [
       "<IPython.core.display.Image object>"
      ]
     },
     "metadata": {},
     "output_type": "display_data"
    }
   ],
   "source": [
    "# Load data from comma-separated-value (CSV) file with header\n",
    "# Formatting: each %d, %s and %f corresponds to an integer, a string and a\n",
    "# number (double precision) respectively\n",
    "[degree, gender, salary] = textread ('../data/data2.csv', '%d %s %f', 'Delimiter', ',', 'HeaderLines', 1);\n",
    "\n",
    "# ANOVA using wild bootstrap\n",
    "# https://gnu-octave.github.io/statistics-resampling/function/bootlm.html#7\n",
    "[STATS, BOOTSTAT, AOVSTAT] = bootlm (salary, {degree, gender}, 'model', ...\n",
    "                             'full', 'display', 'off', 'varnames', ...\n",
    "                             {'degree', 'gender'}, 'seed', 1);\n",
    "\n",
    "# Report ANOVA results\n",
    "fprintf ('ANOVA SUMMARY with effect of gender averaged over levels of degree\\n')\n",
    "for i = 1:numel(AOVSTAT.MODEL)\n",
    "  fprintf ('F(%u,%u) = %.2f, p = %.3g for the model: %s\\n', ...\n",
    "           AOVSTAT.DF(i), AOVSTAT.DFE, AOVSTAT.F(i), ...\n",
    "           AOVSTAT.PVAL(i), AOVSTAT.MODEL{i});\n",
    "end\n",
    "\n",
    "# Calculate regression coefficients and 95% credible intervals (using bayesian bootstrap\n",
    "# with an uninformative prior)\n",
    "MDL = bootlm (salary, {degree, gender}, 'model', 'full', ...\n",
    "                        'display', 'on', 'varnames', ...\n",
    "                        {'degree', 'gender'}, 'method', 'bayesian', 'prior', 1);\n",
    "\n",
    "# Calculate estimated marginal means and 95% credible intervals (using bayesian bootstrap\n",
    "# with an uninformative prior)\n",
    "EMMEANS = bootlm (salary, {degree, gender}, 'model', 'full', ...\n",
    "                        'display', 'on', 'varnames', ...\n",
    "                        {'degree', 'gender'}, 'dim', [1, 2], ...\n",
    "                        'method', 'bayesian', 'prior', 'auto');\n",
    "\n",
    "# Test whether salaries averaged over levels of college differ between men and \n",
    "# women (using wild bootstrap)\n",
    "POSTTESTS = bootlm (salary, {degree, gender}, 'model', 'full', ...\n",
    "                        'display', 'on', 'varnames', ...\n",
    "                        {'degree', 'gender'}, 'dim', 2, ...\n",
    "                        'posthoc', [1, 2]);\n",
    "\n",
    "# Save the figure of the diagnostic plots\n",
    "print ('../output/diagnostic_plots.svg','-dsvg')\n",
    "#print ('../output/diagnostic_plots.png','-dpng','-r300')"
   ]
  },
  {
   "cell_type": "markdown",
   "metadata": {},
   "source": [
    "**Example 3** (below): Bootstrap two-way ANOVA (Type I) using `bootlm` with data (in long format) as above but loaded from **data.xlsx**."
   ]
  },
  {
   "cell_type": "code",
   "execution_count": 4,
   "metadata": {
    "tags": []
   },
   "outputs": [
    {
     "name": "stdout",
     "output_type": "stream",
     "text": [
      "ANOVA SUMMARY with effect of gender averaged over levels of degree\n",
      "F(1,18) = 87.20, p = 0.0001 for the model: salary ~ 1 + degree\n",
      "F(1,18) = 10.97, p = 0.00498 for the model: salary ~ 1 + degree + gender\n",
      "F(1,18) = 0.42, p = 0.572 for the model: salary ~ 1 + degree + gender + degree:gender\n"
     ]
    }
   ],
   "source": [
    "# Load data from Microsoft Excel or Open Office document spreadsheet\n",
    "# First output is for numeric data, second output is for text data\n",
    "# https://octave.sourceforge.io/io/function/xlsread.html\n",
    "[degree, gender] = xlsread ('../data/data.xlsx', 'data2', 'A2:B23');\n",
    "salary = xlsread ('../data/data.xlsx', 'data2', 'C2:C23');\n",
    "\n",
    "# As above, ANOVA using wild bootstrap\n",
    "[STATS, BOOTSTAT, AOVSTAT] = bootlm (salary, {degree, gender}, 'model', ...\n",
    "                             'full', 'display', 'off', 'varnames', ...\n",
    "                             {'degree', 'gender'}, 'seed', 1);\n",
    "\n",
    "# Report ANOVA results\n",
    "fprintf ('ANOVA SUMMARY with effect of gender averaged over levels of degree\\n')\n",
    "for i = 1:numel(AOVSTAT.MODEL)\n",
    "  fprintf ('F(%u,%u) = %.2f, p = %.3g for the model: %s\\n', ...\n",
    "           AOVSTAT.DF(i), AOVSTAT.DFE, AOVSTAT.F(i), ...\n",
    "           AOVSTAT.PVAL(i), AOVSTAT.MODEL{i});\n",
    "end"
   ]
  },
  {
   "cell_type": "markdown",
   "metadata": {
    "tags": []
   },
   "source": [
    "**Example 4** (below): Bootstrap confidence intervals using `bootci` or `bootknife` with data specified in the code cell."
   ]
  },
  {
   "cell_type": "code",
   "execution_count": null,
   "metadata": {
    "tags": []
   },
   "outputs": [],
   "source": [
    "# Spatial Test Data from Table 14.1 of Efron and Tibshirani (1993)\n",
    "# An Introduction to the Bootstrap in Monographs on Statistics and Applied \n",
    "# Probability 57 (Springer)\n",
    "# AIM:\n",
    "# To construct 90% nonparametric bootstrap confidence intervals for var(A,1)\n",
    "# var(A,1) = 171.5\n",
    "# Exact intervals based on Normal theory are [118.4, 305.2]\n",
    "A = [48 36 20 29 42 42 20 42 22 41 45 14 6 ...\n",
    "    0 33 28 34 4 32 24 47 41 24 26 30 41].';\n",
    "ci1 = bootci (4999,{{@var,1},A},'alpha',0.1,'type','norm','seed',1);\n",
    "ci2 = bootci (4999,{{@var,1},A},'alpha',0.1,'type','per','seed',1);\n",
    "ci3 = bootci (4999,{{@var,1},A},'alpha',0.1,'type','basic','seed',1);\n",
    "ci4 = bootci (4999,{{@var,1},A},'alpha',0.1,'type','bca','seed',1);\n",
    "ci5 = bootci (4999,{{@var,1},A},'alpha',0.1,'type','stud','nbootstd',100,'seed',1);\n",
    "ci6 = bootci (4999,{{@var,1},A},'alpha',0.1,'type','cal','nbootcal',499,'seed',1);\n",
    "\n",
    "# Create table of confidence intervals using bootci\n",
    "header = {'', 'norm', 'perc', 'basic', 'bca', 'stud', 'cal'};\n",
    "tbl = table ({'CI_lower','CI_upper'}, ci1, ci2, ci3, ci4, ci5, ci6);\n",
    "tbl = setVariableNames (tbl, (1:6), header);\n",
    "prettyprint (tbl(:,:))\n",
    "\n",
    "# Bias-corrected and accelerated bootstrap confidence intervals after balanced bootknife resampling \n",
    "bootknife (A,4999,{@var,1},[0.05,0.95]);\n",
    "\n",
    "# Calibrated bootstrap confidence intervals after iterated balanced bootknife resampling \n",
    "bootknife (A,[4999,499],{@var,1},[0.05,0.95]);"
   ]
  },
  {
   "cell_type": "code",
   "execution_count": null,
   "metadata": {},
   "outputs": [],
   "source": []
  }
 ],
 "metadata": {
  "anaconda-cloud": {},
  "kernelspec": {
   "display_name": "Octave",
   "language": "octave",
   "name": "octave"
  },
  "language_info": {
   "file_extension": ".m",
   "help_links": [
    {
     "text": "GNU Octave",
     "url": "https://www.gnu.org/software/octave/support.html"
    },
    {
     "text": "Octave Kernel",
     "url": "https://github.com/Calysto/octave_kernel"
    },
    {
     "text": "MetaKernel Magics",
     "url": "https://metakernel.readthedocs.io/en/latest/source/README.html"
    }
   ],
   "mimetype": "text/x-octave",
   "name": "octave",
   "version": "8.3.0"
  }
 },
 "nbformat": 4,
 "nbformat_minor": 4
}
