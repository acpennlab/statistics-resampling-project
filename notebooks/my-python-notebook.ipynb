{
 "cells": [
  {
   "cell_type": "code",
   "execution_count": null,
   "id": "9d991071-9ece-40e7-9e9a-71fa6ad84aa7",
   "metadata": {},
   "outputs": [],
   "source": []
  },
  {
   "cell_type": "code",
   "execution_count": null,
   "id": "50ed2ea6-4b3f-4187-accb-7f027e369257",
   "metadata": {},
   "outputs": [],
   "source": [
    "# Install modules\n",
    "conda install -qc conda-forge pandas numpy scipy statistics plotnine"
   ]
  },
  {
   "cell_type": "code",
   "execution_count": null,
   "id": "42171dde-34f4-4036-bbfe-b98c0ebaae8e",
   "metadata": {},
   "outputs": [],
   "source": [
    "# Load modules\n",
    "import scipy\n",
    "import \n",
    "import numpy as np\n",
    "from plotnine import *"
   ]
  }
 ],
 "metadata": {
  "kernelspec": {
   "display_name": "Python 3 (ipykernel)",
   "language": "python",
   "name": "python3"
  },
  "language_info": {
   "codemirror_mode": {
    "name": "ipython",
    "version": 3
   },
   "file_extension": ".py",
   "mimetype": "text/x-python",
   "name": "python",
   "nbconvert_exporter": "python",
   "pygments_lexer": "ipython3",
   "version": "3.11.7"
  }
 },
 "nbformat": 4,
 "nbformat_minor": 5
}
