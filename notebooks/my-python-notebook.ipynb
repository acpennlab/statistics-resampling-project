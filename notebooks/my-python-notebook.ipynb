{
 "cells": [
  {
   "cell_type": "markdown",
   "id": "70dfab88-5237-457e-a8ca-b4e22ed2d410",
   "metadata": {},
   "source": [
    "My Python Notebook\n",
    "==========="
   ]
  },
  {
   "cell_type": "markdown",
   "id": "e85380ae-a839-4203-ad16-ce7f1a059a10",
   "metadata": {},
   "source": [
    "Install python modules from Conda-Forge"
   ]
  },
  {
   "cell_type": "code",
   "execution_count": null,
   "id": "50ed2ea6-4b3f-4187-accb-7f027e369257",
   "metadata": {},
   "outputs": [],
   "source": [
    "# Install modules\n",
    "!conda install -qc conda-forge pandas numpy scipy statistics plotnine"
   ]
  },
  {
   "cell_type": "code",
   "execution_count": null,
   "id": "42171dde-34f4-4036-bbfe-b98c0ebaae8e",
   "metadata": {},
   "outputs": [],
   "source": [
    "# Load modules\n",
    "import scipy\n",
    "import statistics as stats\n",
    "import numpy as np\n",
    "from plotnine import *"
   ]
  }
 ],
 "metadata": {
  "kernelspec": {
   "display_name": "Python 3 (ipykernel)",
   "language": "python",
   "name": "python3"
  },
  "language_info": {
   "codemirror_mode": {
    "name": "ipython",
    "version": 3
   },
   "file_extension": ".py",
   "mimetype": "text/x-python",
   "name": "python",
   "nbconvert_exporter": "python",
   "pygments_lexer": "ipython3",
   "version": "3.11.7"
  }
 },
 "nbformat": 4,
 "nbformat_minor": 5
}
