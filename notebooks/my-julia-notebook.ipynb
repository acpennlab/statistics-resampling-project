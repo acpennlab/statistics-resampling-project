{
 "cells": [
  {
   "cell_type": "markdown",
   "id": "b80a921c-1841-4efc-bb18-6e96cbd17dad",
   "metadata": {},
   "source": [
    "My Julia notebook\n",
    "============"
   ]
  },
  {
   "cell_type": "code",
   "execution_count": null,
   "id": "892e67ff-4e13-4ca0-9036-4f3e4df84062",
   "metadata": {},
   "outputs": [],
   "source": [
    "# Install packages\n",
    "using Pkg\n",
    "Pkg.add([\"CSV\",\"DataFrames\"])"
   ]
  },
  {
   "cell_type": "code",
   "execution_count": 1,
   "id": "4d9c3b59-db75-4706-82c9-9896f9284292",
   "metadata": {},
   "outputs": [],
   "source": [
    "# Load packages\n",
    "using CSV, DataFrames"
   ]
  },
  {
   "cell_type": "code",
   "execution_count": 48,
   "id": "231c14a2-3b4e-4db7-b07d-920e800bef7a",
   "metadata": {},
   "outputs": [
    {
     "name": "stdout",
     "output_type": "stream",
     "text": [
      "\u001b[1m20×2 DataFrame\u001b[0m\n",
      "\u001b[1m Row \u001b[0m│\u001b[1m before  \u001b[0m\u001b[1m after   \u001b[0m\n",
      "     │\u001b[90m Float64 \u001b[0m\u001b[90m Float64 \u001b[0m\n",
      "─────┼──────────────────\n",
      "   1 │   212.0    247.0\n",
      "   2 │   435.0    461.0\n",
      "   3 │   339.0    526.0\n",
      "   4 │   251.0    302.0\n",
      "   5 │   404.0    636.0\n",
      "   6 │   510.0    593.0\n",
      "   7 │   377.0    393.0\n",
      "   8 │   335.0    409.0\n",
      "   9 │   410.0    488.0\n",
      "  10 │   335.0    381.0\n",
      "  11 │   415.0    474.0\n",
      "  12 │   356.0    329.0\n",
      "  13 │   339.0    555.0\n",
      "  14 │   188.0    282.0\n",
      "  15 │   256.0    423.0\n",
      "  16 │   296.0    323.0\n",
      "  17 │   249.0    256.0\n",
      "  18 │   303.0    431.0\n",
      "  19 │   266.0    437.0\n",
      "  20 │   300.0    240.0"
     ]
    }
   ],
   "source": [
    "# Load data from tab-separated-value (TSV) file (i.e. tab-delimited text file) with header\n",
    "data1 = CSV.read(\"../data/data1.tsv\", DataFrame, header=1,delim=\"\\t\",\n",
    "                 types=Dict(:before=>Float64,:after=>Float64))\n",
    "print(data1)"
   ]
  },
  {
   "cell_type": "code",
   "execution_count": 1,
   "id": "db102bb9-b577-4bc6-b7a9-d8226eaba08d",
   "metadata": {},
   "outputs": [
    {
     "name": "stdout",
     "output_type": "stream",
     "text": [
      "\u001b[1m22×3 DataFrame\u001b[0m\n",
      "\u001b[1m Row \u001b[0m│\u001b[1m degree \u001b[0m\u001b[1m gender  \u001b[0m\u001b[1m salary  \u001b[0m\n",
      "     │\u001b[90m Int64  \u001b[0m\u001b[90m String1 \u001b[0m\u001b[90m Float64 \u001b[0m\n",
      "─────┼──────────────────────────\n",
      "   1 │      1  f           24.0\n",
      "   2 │      1  f           26.0\n",
      "   3 │      1  f           25.0\n",
      "   4 │      1  f           24.0\n",
      "   5 │      1  f           27.0\n",
      "   6 │      1  f           24.0\n",
      "   7 │      1  f           27.0\n",
      "   8 │      1  f           23.0\n",
      "   9 │      0  f           15.0\n",
      "  10 │      0  f           17.0\n",
      "  11 │      0  f           20.0\n",
      "  12 │      0  f           16.0\n",
      "  13 │      1  m           25.0\n",
      "  14 │      1  m           29.0\n",
      "  15 │      1  m           27.0\n",
      "  16 │      0  m           19.0\n",
      "  17 │      0  m           18.0\n",
      "  18 │      0  m           21.0\n",
      "  19 │      0  m           20.0\n",
      "  20 │      0  m           21.0\n",
      "  21 │      0  m           22.0\n",
      "  22 │      0  m           19.0"
     ]
    }
   ],
   "source": [
    "# Load data from comma-separated-value (CSV) file with header\n",
    "data2 = CSV.read(\"../data/data2.csv\", DataFrame, header=true, types=Dict(:salary=>Float64))\n",
    "print(data2)"
   ]
  },
  {
   "cell_type": "code",
   "execution_count": null,
   "id": "9804882d-ec4b-471b-94fd-8ed4e6d2cb63",
   "metadata": {},
   "outputs": [],
   "source": []
  }
 ],
 "metadata": {
  "kernelspec": {
   "display_name": "Julia 1.10.0",
   "language": "julia",
   "name": "julia-1.10"
  },
  "language_info": {
   "file_extension": ".jl",
   "mimetype": "application/julia",
   "name": "julia",
   "version": "1.10.0"
  }
 },
 "nbformat": 4,
 "nbformat_minor": 5
}
