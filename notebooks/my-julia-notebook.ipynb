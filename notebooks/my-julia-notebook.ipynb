{
 "cells": [
  {
   "cell_type": "markdown",
   "id": "b80a921c-1841-4efc-bb18-6e96cbd17dad",
   "metadata": {},
   "source": [
    "My Julia Notebook\n",
    "============"
   ]
  },
  {
   "cell_type": "code",
   "execution_count": 1,
   "id": "892e67ff-4e13-4ca0-9036-4f3e4df84062",
   "metadata": {
    "tags": []
   },
   "outputs": [
    {
     "name": "stdout",
     "output_type": "stream",
     "text": [
      "\u001b[32m\u001b[1mStatus\u001b[22m\u001b[39m `~/.binder/Project.toml`\n",
      "  \u001b[90m[1313f7d8] \u001b[39mDataFramesMeta v0.15.2\n",
      "  \u001b[90m[60bf3e95] \u001b[39mGLPK v1.1.3\n",
      "  \u001b[90m[cd3eb016] \u001b[39mHTTP v1.10.4\n",
      "  \u001b[90m[7073ff75] \u001b[39mIJulia v1.24.2\n",
      "  \u001b[90m[6deec6e2] \u001b[39mIndexedTables v1.0.1\n",
      "  \u001b[90m[b6b21f68] \u001b[39mIpopt v1.6.2\n",
      "  \u001b[90m[4076af6c] \u001b[39mJuMP v1.20.0\n",
      "  \u001b[90m[2fda8390] \u001b[39mLsqFit v0.15.0\n",
      "  \u001b[90m[b98c9c47] \u001b[39mPipe v1.3.0\n",
      "  \u001b[90m[38244590] \u001b[39mPlotSVG v0.3.1\n",
      "  \u001b[90m[1a8c2f83] \u001b[39mQuery v1.0.0\n",
      "  \u001b[90m[2cb19f9e] \u001b[39mStatsKit v0.3.1\n",
      "  \u001b[90m[f3b207a7] \u001b[39mStatsPlots v0.15.7\n",
      "  \u001b[90m[44d3d7a6] \u001b[39mWeave v0.10.12\n",
      "  \u001b[90m[fdbf4ff8] \u001b[39mXLSX v0.10.1\n",
      "  \u001b[90m[a5390f91] \u001b[39mZipFile v0.10.1\n"
     ]
    }
   ],
   "source": [
    "# Install packages\n",
    "using Pkg\n",
    "Pkg.status()\n",
    "#Pkg.add([\"StatsKit\",\"XLSX\"])"
   ]
  },
  {
   "cell_type": "code",
   "execution_count": 2,
   "id": "4d9c3b59-db75-4706-82c9-9896f9284292",
   "metadata": {
    "tags": []
   },
   "outputs": [],
   "source": [
    "# Load packages\n",
    "using StatsKit, .CSV, .DataFrames"
   ]
  },
  {
   "cell_type": "code",
   "execution_count": 3,
   "id": "231c14a2-3b4e-4db7-b07d-920e800bef7a",
   "metadata": {
    "tags": []
   },
   "outputs": [
    {
     "name": "stdout",
     "output_type": "stream",
     "text": [
      "\u001b[1m20×2 DataFrame\n",
      "\u001b[1m Row │\u001b[1m before  \u001b[1m after\n",
      "     │\u001b[90m Float64 \u001b[90m Float64\n",
      "─────┼──────────────────\n",
      "   1 │   212.0    247.0\n",
      "   2 │   435.0    461.0\n",
      "   3 │   339.0    526.0\n",
      "   4 │   251.0    302.0\n",
      "   5 │   404.0    636.0\n",
      "   6 │   510.0    593.0\n",
      "   7 │   377.0    393.0\n",
      "   8 │   335.0    409.0\n",
      "   9 │   410.0    488.0\n",
      "  10 │   335.0    381.0\n",
      "  11 │   415.0    474.0\n",
      "  12 │   356.0    329.0\n",
      "  13 │   339.0    555.0\n",
      "  14 │   188.0    282.0\n",
      "  15 │   256.0    423.0\n",
      "  16 │   296.0    323.0\n",
      "  17 │   249.0    256.0\n",
      "  18 │   303.0    431.0\n",
      "  19 │   266.0    437.0\n",
      "  20 │   300.0    240.0"
     ]
    }
   ],
   "source": [
    "# Load data from tab-separated-value (TSV) file (i.e. tab-delimited text file) with header\n",
    "data1 = CSV.read(\"../data/data1.tsv\", DataFrame, header=1,delim=\"\\t\",\n",
    "                 types=Dict(:before=>Float64,:after=>Float64))\n",
    "print(data1)"
   ]
  },
  {
   "cell_type": "code",
   "execution_count": 4,
   "id": "db102bb9-b577-4bc6-b7a9-d8226eaba08d",
   "metadata": {
    "tags": []
   },
   "outputs": [
    {
     "name": "stdout",
     "output_type": "stream",
     "text": [
      "\u001b[1m22×3 DataFrame\n",
      "\u001b[1m Row │\u001b[1m degree \u001b[1m gender  \u001b[1m salary\n",
      "     │\u001b[90m Int64  \u001b[90m String1 \u001b[90m Float64\n",
      "─────┼──────────────────────────\n",
      "   1 │      0  m           19.0\n",
      "   2 │      0  m           18.0\n",
      "   3 │      0  m           21.0\n",
      "   4 │      0  m           20.0\n",
      "   5 │      0  m           21.0\n",
      "   6 │      0  m           22.0\n",
      "   7 │      0  m           19.0\n",
      "   8 │      1  m           25.0\n",
      "   9 │      1  m           29.0\n",
      "  10 │      1  m           27.0\n",
      "  11 │      0  f           15.0\n",
      "  12 │      0  f           17.0\n",
      "  13 │      0  f           20.0\n",
      "  14 │      0  f           16.0\n",
      "  15 │      1  f           24.0\n",
      "  16 │      1  f           26.0\n",
      "  17 │      1  f           25.0\n",
      "  18 │      1  f           24.0\n",
      "  19 │      1  f           27.0\n",
      "  20 │      1  f           24.0\n",
      "  21 │      1  f           27.0\n",
      "  22 │      1  f           23.0"
     ]
    }
   ],
   "source": [
    "# Load data from comma-separated-value (CSV) file with header\n",
    "data2 = CSV.read(\"../data/data2.csv\", DataFrame, header=true, types=Dict(:salary=>Float64))\n",
    "print(data2)"
   ]
  },
  {
   "cell_type": "code",
   "execution_count": null,
   "id": "9804882d-ec4b-471b-94fd-8ed4e6d2cb63",
   "metadata": {},
   "outputs": [],
   "source": []
  }
 ],
 "metadata": {
  "kernelspec": {
   "display_name": "Julia 1.10.2",
   "language": "julia",
   "name": "julia-1.10"
  },
  "language_info": {
   "file_extension": ".jl",
   "mimetype": "application/julia",
   "name": "julia",
   "version": "1.10.2"
  }
 },
 "nbformat": 4,
 "nbformat_minor": 5
}
